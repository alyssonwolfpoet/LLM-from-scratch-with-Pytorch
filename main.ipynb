{
 "cells": [
  {
   "cell_type": "code",
   "execution_count": 13,
   "metadata": {},
   "outputs": [],
   "source": [
    "import torch\n",
    "import torch.nn as nn\n",
    "import torch.nn.functional as F"
   ]
  },
  {
   "cell_type": "code",
   "execution_count": 14,
   "metadata": {},
   "outputs": [
    {
     "name": "stdout",
     "output_type": "stream",
     "text": [
      "torch.Size([1, 9, 5])\n"
     ]
    }
   ],
   "source": [
    "# setting fix seed\n",
    "torch.random.manual_seed(seed=1234)\n",
    "\n",
    "# data\n",
    "text = \"Hi! My name is Matheus.\"\n",
    "tokens = [13347, 0, 3092, 836, 374, 7011, 383, 355, 13] # [\"Hi\", \"!\", \" My\", \" name\", \" is\", \" Matheus\", \".\"]\n",
    "\n",
    "# parameters\n",
    "vocab_size = max(tokens) + 1 # number of classes to predict\n",
    "emb_dim = 5 # size of vector representation of each token\n",
    "context = len(tokens) # context size of model\n",
    "\n",
    "# layers\n",
    "embedding = nn.Embedding(num_embeddings=vocab_size, embedding_dim=emb_dim)\n",
    "query = nn.Linear(in_features=emb_dim, out_features=emb_dim, bias=False)\n",
    "key = nn.Linear(in_features=emb_dim, out_features=emb_dim, bias=False)\n",
    "value = nn.Linear(in_features=emb_dim, out_features=emb_dim, bias=False)\n",
    "\n",
    "# mask filter\n",
    "ones = torch.ones(size=[context, context], dtype=torch.float)\n",
    "mask = torch.tril(input=ones)\n",
    "\n",
    "# forward pass\n",
    "t_tokens = torch.tensor(data=tokens).unsqueeze(dim=0) # [9] -> [1,9]\n",
    "x = embedding(t_tokens) # [1,9] -> [1,9,50] embedding vectors\n",
    "\n",
    "B, T, C = x.size()\n",
    "Q = query(x) # [1,9,50] -> [1,9,50]\n",
    "K = key(x) # [1,9,50] -> [1,9,50]\n",
    "V = value(x) # [1,9,50] -> [1,9,50]\n",
    "\n",
    "QK = Q @ K.transpose(-2, -1) * C**-0.5 # [1,9,50] @ [1,50,9] -> [1,9,9] attention matrix\n",
    "attention = QK.masked_fill(mask[:T,:T] == 0, float(\"-inf\")) # applying mask\n",
    "attention = F.softmax(input=attention, dim=-1) # [1,9,9] normalizing to 0 and 1 in embedding dimension\n",
    "\n",
    "out = attention @ V # [1,9,9] @ [1,9,50] -> [1,9,50]\n",
    "\n",
    "print(out.size()) # new data representation"
   ]
  }
 ],
 "metadata": {
  "kernelspec": {
   "display_name": ".venv",
   "language": "python",
   "name": "python3"
  },
  "language_info": {
   "codemirror_mode": {
    "name": "ipython",
    "version": 3
   },
   "file_extension": ".py",
   "mimetype": "text/x-python",
   "name": "python",
   "nbconvert_exporter": "python",
   "pygments_lexer": "ipython3",
   "version": "3.10.12"
  }
 },
 "nbformat": 4,
 "nbformat_minor": 2
}
